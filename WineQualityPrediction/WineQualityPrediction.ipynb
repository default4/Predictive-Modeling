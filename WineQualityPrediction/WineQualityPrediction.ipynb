{
 "cells": [
  {
   "cell_type": "code",
   "execution_count": 11,
   "id": "5434b87a",
   "metadata": {},
   "outputs": [],
   "source": [
    "import requests\n",
    "import pandas as pd\n",
    "import numpy as np\n",
    "from sklearn.model_selection import train_test_split, GridSearchCV\n",
    "from sklearn.preprocessing import StandardScaler\n",
    "from sklearn.ensemble import RandomForestClassifier\n",
    "from sklearn.metrics import accuracy_score, classification_report"
   ]
  },
  {
   "cell_type": "code",
   "execution_count": 3,
   "id": "033edfeb",
   "metadata": {},
   "outputs": [],
   "source": [
    "DATASET_RED_WINE = \"https://archive.ics.uci.edu/ml/machine-learning-databases/wine-quality/winequality-red.csv\"\n",
    "DATASET_WHITE_WINE = \"https://archive.ics.uci.edu/ml/machine-learning-databases/wine-quality/winequality-white.csv\""
   ]
  },
  {
   "cell_type": "code",
   "execution_count": 4,
   "id": "ae436b9d",
   "metadata": {},
   "outputs": [],
   "source": [
    "def download_data():\n",
    "    red_wine = requests.get(DATASET_RED_WINE).text\n",
    "    white_wine = requests.get(DATASET_WHITE_WINE).text\n",
    "    with open('winequality-red.csv', 'w') as f:\n",
    "        f.write(red_wine)\n",
    "    with open('winequality-white.csv', 'w') as f:\n",
    "        f.write(white_wine)"
   ]
  },
  {
   "cell_type": "code",
   "execution_count": 5,
   "id": "2cacb84a",
   "metadata": {},
   "outputs": [],
   "source": [
    "def load_data():\n",
    "    red_wine_df = pd.read_csv('winequality-red.csv', sep=';')\n",
    "    white_wine_df = pd.read_csv('winequality-white.csv', sep=';')\n",
    "    df = pd.concat([red_wine_df, white_wine_df])\n",
    "    return df"
   ]
  },
  {
   "cell_type": "code",
   "execution_count": 6,
   "id": "97edbb75",
   "metadata": {},
   "outputs": [],
   "source": [
    "def preprocess_data(df):\n",
    "    df['quality_label'] = df['quality'].apply(lambda x: 0 if x <= 5 else 1)\n",
    "    return df"
   ]
  },
  {
   "cell_type": "code",
   "execution_count": 9,
   "id": "75590037",
   "metadata": {},
   "outputs": [],
   "source": [
    "def main():\n",
    "    download_data()\n",
    "    df = load_data()\n",
    "    df = preprocess_data(df)\n",
    "\n",
    "    # Split the data\n",
    "    X = df.drop(['quality', 'quality_label'], axis=1)\n",
    "    y = df['quality_label']\n",
    "    X_train, X_test, y_train, y_test = train_test_split(X, y, test_size=0.2, random_state=42)\n",
    "\n",
    "    # Scale the data\n",
    "    scaler = StandardScaler()\n",
    "    X_train_scaled = scaler.fit_transform(X_train)\n",
    "    X_test_scaled = scaler.transform(X_test)\n",
    "\n",
    "    # Train the Random Forest Classifier and tune hyperparameters using GridSearchCV\n",
    "    params = {\n",
    "        'n_estimators': [50, 100, 200],\n",
    "        'max_depth': [None, 10, 20, 30],\n",
    "        'min_samples_split': [2, 5, 10],\n",
    "        'min_samples_leaf': [1, 2, 4]\n",
    "    }\n",
    "    clf = RandomForestClassifier(random_state=42)\n",
    "    grid_search = GridSearchCV(clf, params, cv=5, n_jobs=-1, verbose=1)\n",
    "    grid_search.fit(X_train_scaled, y_train)\n",
    "\n",
    "    # Evaluate the model\n",
    "    best_clf = grid_search.best_estimator_\n",
    "    y_pred = best_clf.predict(X_test_scaled)\n",
    "    print(\"Accuracy:\", accuracy_score(y_test, y_pred))\n",
    "    print(\"Classification Report:\")\n",
    "    print(classification_report(y_test, y_pred))"
   ]
  },
  {
   "cell_type": "code",
   "execution_count": 12,
   "id": "705d54b7",
   "metadata": {},
   "outputs": [
    {
     "name": "stdout",
     "output_type": "stream",
     "text": [
      "Fitting 5 folds for each of 108 candidates, totalling 540 fits\n",
      "Accuracy: 0.8146153846153846\n",
      "Classification Report:\n",
      "              precision    recall  f1-score   support\n",
      "\n",
      "           0       0.74      0.71      0.73       451\n",
      "           1       0.85      0.87      0.86       849\n",
      "\n",
      "    accuracy                           0.81      1300\n",
      "   macro avg       0.80      0.79      0.79      1300\n",
      "weighted avg       0.81      0.81      0.81      1300\n",
      "\n"
     ]
    }
   ],
   "source": [
    "if __name__ == '__main__':\n",
    "    main()"
   ]
  },
  {
   "cell_type": "code",
   "execution_count": null,
   "id": "f7af2b2e",
   "metadata": {},
   "outputs": [],
   "source": []
  }
 ],
 "metadata": {
  "kernelspec": {
   "display_name": "Python 3 (ipykernel)",
   "language": "python",
   "name": "python3"
  },
  "language_info": {
   "codemirror_mode": {
    "name": "ipython",
    "version": 3
   },
   "file_extension": ".py",
   "mimetype": "text/x-python",
   "name": "python",
   "nbconvert_exporter": "python",
   "pygments_lexer": "ipython3",
   "version": "3.9.12"
  }
 },
 "nbformat": 4,
 "nbformat_minor": 5
}
