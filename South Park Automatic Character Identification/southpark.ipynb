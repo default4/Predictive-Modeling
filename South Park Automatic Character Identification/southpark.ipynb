{
 "cells": [
  {
   "cell_type": "code",
   "execution_count": 23,
   "id": "9df1080a",
   "metadata": {},
   "outputs": [
    {
     "data": {
      "text/html": [
       "<div>\n",
       "<style scoped>\n",
       "    .dataframe tbody tr th:only-of-type {\n",
       "        vertical-align: middle;\n",
       "    }\n",
       "\n",
       "    .dataframe tbody tr th {\n",
       "        vertical-align: top;\n",
       "    }\n",
       "\n",
       "    .dataframe thead th {\n",
       "        text-align: right;\n",
       "    }\n",
       "</style>\n",
       "<table border=\"1\" class=\"dataframe\">\n",
       "  <thead>\n",
       "    <tr style=\"text-align: right;\">\n",
       "      <th></th>\n",
       "      <th>Season</th>\n",
       "      <th>Episode</th>\n",
       "      <th>Character</th>\n",
       "      <th>Line</th>\n",
       "    </tr>\n",
       "  </thead>\n",
       "  <tbody>\n",
       "    <tr>\n",
       "      <th>0</th>\n",
       "      <td>10</td>\n",
       "      <td>1</td>\n",
       "      <td>Stan</td>\n",
       "      <td>You guys, you guys! Chef is going away. \\n</td>\n",
       "    </tr>\n",
       "    <tr>\n",
       "      <th>1</th>\n",
       "      <td>10</td>\n",
       "      <td>1</td>\n",
       "      <td>Kyle</td>\n",
       "      <td>Going away? For how long?\\n</td>\n",
       "    </tr>\n",
       "    <tr>\n",
       "      <th>2</th>\n",
       "      <td>10</td>\n",
       "      <td>1</td>\n",
       "      <td>Stan</td>\n",
       "      <td>Forever.\\n</td>\n",
       "    </tr>\n",
       "    <tr>\n",
       "      <th>3</th>\n",
       "      <td>10</td>\n",
       "      <td>1</td>\n",
       "      <td>Chef</td>\n",
       "      <td>I'm sorry boys.\\n</td>\n",
       "    </tr>\n",
       "    <tr>\n",
       "      <th>4</th>\n",
       "      <td>10</td>\n",
       "      <td>1</td>\n",
       "      <td>Stan</td>\n",
       "      <td>Chef said he's been bored, so he joining a gro...</td>\n",
       "    </tr>\n",
       "  </tbody>\n",
       "</table>\n",
       "</div>"
      ],
      "text/plain": [
       "  Season Episode Character                                               Line\n",
       "0     10       1      Stan         You guys, you guys! Chef is going away. \\n\n",
       "1     10       1      Kyle                        Going away? For how long?\\n\n",
       "2     10       1      Stan                                         Forever.\\n\n",
       "3     10       1      Chef                                  I'm sorry boys.\\n\n",
       "4     10       1      Stan  Chef said he's been bored, so he joining a gro..."
      ]
     },
     "execution_count": 23,
     "metadata": {},
     "output_type": "execute_result"
    }
   ],
   "source": [
    "import pandas as pd\n",
    "\n",
    "# Load the dataset\n",
    "dataset = pd.read_csv('southpark/All-seasons.csv')\n",
    "\n",
    "# Display the first few rows of the dataset to understand its structure\n",
    "dataset.head()\n"
   ]
  },
  {
   "cell_type": "code",
   "execution_count": 24,
   "id": "6999ecbc",
   "metadata": {},
   "outputs": [
    {
     "data": {
      "text/html": [
       "<div>\n",
       "<style scoped>\n",
       "    .dataframe tbody tr th:only-of-type {\n",
       "        vertical-align: middle;\n",
       "    }\n",
       "\n",
       "    .dataframe tbody tr th {\n",
       "        vertical-align: top;\n",
       "    }\n",
       "\n",
       "    .dataframe thead th {\n",
       "        text-align: right;\n",
       "    }\n",
       "</style>\n",
       "<table border=\"1\" class=\"dataframe\">\n",
       "  <thead>\n",
       "    <tr style=\"text-align: right;\">\n",
       "      <th></th>\n",
       "      <th>Season</th>\n",
       "      <th>Episode</th>\n",
       "      <th>Character</th>\n",
       "      <th>Line</th>\n",
       "      <th>Tokenized</th>\n",
       "    </tr>\n",
       "  </thead>\n",
       "  <tbody>\n",
       "    <tr>\n",
       "      <th>20657</th>\n",
       "      <td>16</td>\n",
       "      <td>4</td>\n",
       "      <td>Butters</td>\n",
       "      <td>no its a school night\\n</td>\n",
       "      <td>[no, its, a, school, night]</td>\n",
       "    </tr>\n",
       "    <tr>\n",
       "      <th>47539</th>\n",
       "      <td>4</td>\n",
       "      <td>10</td>\n",
       "      <td>Priest Maxi</td>\n",
       "      <td>okayokay fine \\n</td>\n",
       "      <td>[okayokay, fine]</td>\n",
       "    </tr>\n",
       "    <tr>\n",
       "      <th>37681</th>\n",
       "      <td>2</td>\n",
       "      <td>16</td>\n",
       "      <td>Manson</td>\n",
       "      <td>if they dont care about you would they have dr...</td>\n",
       "      <td>[if, they, dont, care, about, you, would, they...</td>\n",
       "    </tr>\n",
       "    <tr>\n",
       "      <th>15694</th>\n",
       "      <td>14</td>\n",
       "      <td>10</td>\n",
       "      <td>Dr. Chinstrap</td>\n",
       "      <td>okay okay broken toothbrush is going right her...</td>\n",
       "      <td>[okay, okay, broken, toothbrush, is, going, ri...</td>\n",
       "    </tr>\n",
       "    <tr>\n",
       "      <th>870</th>\n",
       "      <td>10</td>\n",
       "      <td>4</td>\n",
       "      <td>Kyle</td>\n",
       "      <td>you fat sun of a bitch\\n</td>\n",
       "      <td>[you, fat, sun, of, a, bitch]</td>\n",
       "    </tr>\n",
       "  </tbody>\n",
       "</table>\n",
       "</div>"
      ],
      "text/plain": [
       "      Season Episode      Character  \\\n",
       "20657     16       4        Butters   \n",
       "47539      4      10    Priest Maxi   \n",
       "37681      2      16         Manson   \n",
       "15694     14      10  Dr. Chinstrap   \n",
       "870       10       4           Kyle   \n",
       "\n",
       "                                                    Line  \\\n",
       "20657                            no its a school night\\n   \n",
       "47539                                   okayokay fine \\n   \n",
       "37681  if they dont care about you would they have dr...   \n",
       "15694  okay okay broken toothbrush is going right her...   \n",
       "870                             you fat sun of a bitch\\n   \n",
       "\n",
       "                                               Tokenized  \n",
       "20657                        [no, its, a, school, night]  \n",
       "47539                                   [okayokay, fine]  \n",
       "37681  [if, they, dont, care, about, you, would, they...  \n",
       "15694  [okay, okay, broken, toothbrush, is, going, ri...  \n",
       "870                        [you, fat, sun, of, a, bitch]  "
      ]
     },
     "execution_count": 24,
     "metadata": {},
     "output_type": "execute_result"
    }
   ],
   "source": [
    "from sklearn.model_selection import train_test_split\n",
    "from nltk.tokenize import word_tokenize\n",
    "import string\n",
    "import re\n",
    "\n",
    "# Data Preprocessing\n",
    "\n",
    "# Drop rows with missing values\n",
    "dataset = dataset.dropna()\n",
    "\n",
    "# Convert text to lowercase\n",
    "dataset['Line'] = dataset['Line'].str.lower()\n",
    "\n",
    "# Remove special characters, numbers, and punctuations\n",
    "def clean_text(text):\n",
    "    text = re.sub(r'\\d+', '', text)  # Remove numbers\n",
    "    text = text.translate(str.maketrans('', '', string.punctuation))  # Remove punctuations\n",
    "    return text\n",
    "\n",
    "dataset['Line'] = dataset['Line'].apply(clean_text)\n",
    "\n",
    "# Tokenize the text\n",
    "dataset['Tokenized'] = dataset['Line'].apply(word_tokenize)\n",
    "\n",
    "# Split the dataset into training and test sets (80% train, 20% test)\n",
    "train_data, test_data = train_test_split(dataset, test_size=0.2, random_state=42)\n",
    "\n",
    "train_data.head()"
   ]
  },
  {
   "cell_type": "code",
   "execution_count": 25,
   "id": "fa7b6f7c",
   "metadata": {},
   "outputs": [
    {
     "data": {
      "text/plain": [
       "((56716, 5000), (14180, 5000))"
      ]
     },
     "execution_count": 25,
     "metadata": {},
     "output_type": "execute_result"
    }
   ],
   "source": [
    "from sklearn.feature_extraction.text import TfidfVectorizer\n",
    "\n",
    "# Initialize the TF-IDF vectorizer\n",
    "tfidf_vectorizer = TfidfVectorizer(max_features=5000, stop_words='english')\n",
    "\n",
    "# Fit and transform the training data\n",
    "X_train_tfidf = tfidf_vectorizer.fit_transform(train_data['Line'])\n",
    "\n",
    "# Transform the test data\n",
    "X_test_tfidf = tfidf_vectorizer.transform(test_data['Line'])\n",
    "\n",
    "# Extract the target labels for training and test sets\n",
    "y_train = train_data['Character']\n",
    "y_test = test_data['Character']\n",
    "\n",
    "X_train_tfidf.shape, X_test_tfidf.shape"
   ]
  },
  {
   "cell_type": "code",
   "execution_count": 27,
   "id": "6cc06ac0",
   "metadata": {},
   "outputs": [
    {
     "data": {
      "text/plain": [
       "0.38842368150433376"
      ]
     },
     "execution_count": 27,
     "metadata": {},
     "output_type": "execute_result"
    }
   ],
   "source": [
    "# Get the top 10 most frequent characters\n",
    "top_characters = train_data['Character'].value_counts().head(10).index\n",
    "\n",
    "# Filter the training and test data to include only these characters\n",
    "train_data_filtered = train_data[train_data['Character'].isin(top_characters)]\n",
    "test_data_filtered = test_data[test_data['Character'].isin(top_characters)]\n",
    "\n",
    "# Extract features again using TF-IDF for the filtered data\n",
    "X_train_tfidf_filtered = tfidf_vectorizer.transform(train_data_filtered['Line'])\n",
    "X_test_tfidf_filtered = tfidf_vectorizer.transform(test_data_filtered['Line'])\n",
    "\n",
    "# Extract the target labels for filtered training and test sets\n",
    "y_train_filtered = train_data_filtered['Character']\n",
    "y_test_filtered = test_data_filtered['Character']\n",
    "\n",
    "# Train the Multinomial Naive Bayes classifier on the filtered data\n",
    "clf_filtered = MultinomialNB()\n",
    "clf_filtered.fit(X_train_tfidf_filtered, y_train_filtered)\n",
    "\n",
    "# Predict the characters using the filtered test set\n",
    "y_pred_filtered = clf_filtered.predict(X_test_tfidf_filtered)\n",
    "\n",
    "# Evaluate the model's performance on the filtered data\n",
    "accuracy_filtered = accuracy_score(y_test_filtered, y_pred_filtered)\n",
    "\n",
    "accuracy_filtered"
   ]
  },
  {
   "cell_type": "code",
   "execution_count": 28,
   "id": "d2814277",
   "metadata": {},
   "outputs": [
    {
     "data": {
      "text/plain": [
       "(0.4066402232995446, 0.4070809460849126)"
      ]
     },
     "execution_count": 28,
     "metadata": {},
     "output_type": "execute_result"
    }
   ],
   "source": [
    "from sklearn.ensemble import RandomForestClassifier\n",
    "from sklearn.svm import LinearSVC\n",
    "\n",
    "# Initialize and train a Random Forest classifier\n",
    "rf_clf = RandomForestClassifier(n_estimators=100, random_state=42)\n",
    "rf_clf.fit(X_train_tfidf_filtered, y_train_filtered)\n",
    "rf_y_pred = rf_clf.predict(X_test_tfidf_filtered)\n",
    "rf_accuracy = accuracy_score(y_test_filtered, rf_y_pred)\n",
    "\n",
    "# Initialize and train a Linear SVM classifier\n",
    "svm_clf = LinearSVC(random_state=42, max_iter=10000)\n",
    "svm_clf.fit(X_train_tfidf_filtered, y_train_filtered)\n",
    "svm_y_pred = svm_clf.predict(X_test_tfidf_filtered)\n",
    "svm_accuracy = accuracy_score(y_test_filtered, svm_y_pred)\n",
    "\n",
    "rf_accuracy, svm_accuracy"
   ]
  },
  {
   "cell_type": "code",
   "execution_count": 29,
   "id": "3f70b883",
   "metadata": {},
   "outputs": [
    {
     "name": "stdout",
     "output_type": "stream",
     "text": [
      "Fitting 3 folds for each of 10 candidates, totalling 30 fits\n"
     ]
    },
    {
     "name": "stderr",
     "output_type": "stream",
     "text": [
      "C:\\Users\\Professional\\anaconda3\\lib\\site-packages\\sklearn\\svm\\_base.py:1206: ConvergenceWarning: Liblinear failed to converge, increase the number of iterations.\n",
      "  warnings.warn(\n",
      "C:\\Users\\Professional\\anaconda3\\lib\\site-packages\\sklearn\\svm\\_base.py:1206: ConvergenceWarning: Liblinear failed to converge, increase the number of iterations.\n",
      "  warnings.warn(\n",
      "C:\\Users\\Professional\\anaconda3\\lib\\site-packages\\sklearn\\svm\\_base.py:1206: ConvergenceWarning: Liblinear failed to converge, increase the number of iterations.\n",
      "  warnings.warn(\n",
      "C:\\Users\\Professional\\anaconda3\\lib\\site-packages\\sklearn\\svm\\_base.py:1206: ConvergenceWarning: Liblinear failed to converge, increase the number of iterations.\n",
      "  warnings.warn(\n",
      "C:\\Users\\Professional\\anaconda3\\lib\\site-packages\\sklearn\\svm\\_base.py:1206: ConvergenceWarning: Liblinear failed to converge, increase the number of iterations.\n",
      "  warnings.warn(\n",
      "C:\\Users\\Professional\\anaconda3\\lib\\site-packages\\sklearn\\svm\\_base.py:1206: ConvergenceWarning: Liblinear failed to converge, increase the number of iterations.\n",
      "  warnings.warn(\n",
      "C:\\Users\\Professional\\anaconda3\\lib\\site-packages\\sklearn\\svm\\_base.py:1206: ConvergenceWarning: Liblinear failed to converge, increase the number of iterations.\n",
      "  warnings.warn(\n"
     ]
    },
    {
     "data": {
      "text/plain": [
       "{'C': 0.1, 'loss': 'squared_hinge'}"
      ]
     },
     "execution_count": 29,
     "metadata": {},
     "output_type": "execute_result"
    }
   ],
   "source": [
    "from sklearn.model_selection import GridSearchCV\n",
    "\n",
    "# Define the parameter grid for SVM\n",
    "param_grid = {\n",
    "    'C': [0.01, 0.1, 1, 10, 100],\n",
    "    'loss': ['hinge', 'squared_hinge']\n",
    "}\n",
    "\n",
    "# Initialize GridSearchCV\n",
    "grid_search = GridSearchCV(LinearSVC(random_state=42, max_iter=10000), param_grid, cv=3, verbose=1)\n",
    "\n",
    "# Train the model with different hyperparameters\n",
    "grid_search.fit(X_train_tfidf_filtered, y_train_filtered)\n",
    "\n",
    "# Get the best parameters from the grid search\n",
    "best_params = grid_search.best_params_\n",
    "best_params"
   ]
  },
  {
   "cell_type": "code",
   "execution_count": 30,
   "id": "6beab1ad",
   "metadata": {},
   "outputs": [
    {
     "data": {
      "text/plain": [
       "0.41604230938739534"
      ]
     },
     "execution_count": 30,
     "metadata": {},
     "output_type": "execute_result"
    }
   ],
   "source": [
    "# Retrain the SVM model using the previously identified best hyperparameters\n",
    "best_svm_clf = LinearSVC(C=0.1, loss='squared_hinge', random_state=42, max_iter=10000)\n",
    "best_svm_clf.fit(X_train_tfidf_filtered, y_train_filtered)\n",
    "\n",
    "# Predict the characters using the filtered test set\n",
    "best_svm_y_pred = best_svm_clf.predict(X_test_tfidf_filtered)\n",
    "\n",
    "# Evaluate the model's performance on the filtered data\n",
    "best_svm_accuracy = accuracy_score(y_test_filtered, best_svm_y_pred)\n",
    "\n",
    "best_svm_accuracy"
   ]
  },
  {
   "cell_type": "code",
   "execution_count": 31,
   "id": "db8b7396",
   "metadata": {},
   "outputs": [
    {
     "name": "stderr",
     "output_type": "stream",
     "text": [
      "C:\\Users\\Professional\\anaconda3\\lib\\site-packages\\seaborn\\_decorators.py:36: FutureWarning: Pass the following variables as keyword args: x, y. From version 0.12, the only valid positional argument will be `data`, and passing other arguments without an explicit keyword will result in an error or misinterpretation.\n",
      "  warnings.warn(\n"
     ]
    },
    {
     "data": {
      "image/png": "[encoded data removed]",
      "text/plain": [
       "<Figure size 864x576 with 1 Axes>"
      ]
     },
     "metadata": {
      "needs_background": "light"
     },
     "output_type": "display_data"
    }
   ],
   "source": [
    "import matplotlib.pyplot as plt\n",
    "import seaborn as sns\n",
    "\n",
    "# Character frequency for top 10 characters\n",
    "character_counts = train_data['Character'].value_counts().head(10)\n",
    "\n",
    "plt.figure(figsize=(12, 8))\n",
    "sns.barplot(character_counts.index, character_counts.values, palette='viridis')\n",
    "plt.title('Number of Lines Spoken by Top 10 Characters')\n",
    "plt.ylabel('Number of Lines')\n",
    "plt.xlabel('Character')\n",
    "plt.xticks(rotation=45)\n",
    "plt.tight_layout()\n",
    "\n",
    "plt.show()"
   ]
  },
  {
   "cell_type": "code",
   "execution_count": 32,
   "id": "29e0ff6a",
   "metadata": {},
   "outputs": [
    {
     "name": "stderr",
     "output_type": "stream",
     "text": [
      "C:\\Users\\Professional\\anaconda3\\lib\\site-packages\\seaborn\\_decorators.py:36: FutureWarning: Pass the following variables as keyword args: x, y. From version 0.12, the only valid positional argument will be `data`, and passing other arguments without an explicit keyword will result in an error or misinterpretation.\n",
      "  warnings.warn(\n"
     ]
    },
    {
     "data": {
      "image/png": "[encoded data removed]",
      "text/plain": [
       "<Figure size 720x432 with 1 Axes>"
      ]
     },
     "metadata": {
      "needs_background": "light"
     },
     "output_type": "display_data"
    }
   ],
   "source": [
    "# Model performance comparison\n",
    "models = ['Naive Bayes', 'SVM', 'Optimized SVM']\n",
    "accuracies = [accuracy_filtered, svm_accuracy, best_svm_accuracy]\n",
    "\n",
    "plt.figure(figsize=(10, 6))\n",
    "sns.barplot(models, accuracies, palette='magma')\n",
    "plt.title('Model Performance Comparison')\n",
    "plt.ylabel('Accuracy')\n",
    "plt.xlabel('Model')\n",
    "plt.ylim(0.35, 0.45)  # set y-axis limits for better visualization\n",
    "plt.tight_layout()\n",
    "\n",
    "plt.show()"
   ]
  },
  {
   "cell_type": "code",
   "execution_count": null,
   "id": "ef0b54dd",
   "metadata": {},
   "outputs": [],
   "source": []
  }
 ],
 "metadata": {
  "kernelspec": {
   "display_name": "Python 3 (ipykernel)",
   "language": "python",
   "name": "python3"
  },
  "language_info": {
   "codemirror_mode": {
    "name": "ipython",
    "version": 3
   },
   "file_extension": ".py",
   "mimetype": "text/x-python",
   "name": "python",
   "nbconvert_exporter": "python",
   "pygments_lexer": "ipython3",
   "version": "3.9.12"
  }
 },
 "nbformat": 4,
 "nbformat_minor": 5
}
